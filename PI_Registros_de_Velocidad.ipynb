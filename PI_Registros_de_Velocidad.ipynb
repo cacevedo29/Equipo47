{
  "nbformat": 4,
  "nbformat_minor": 0,
  "metadata": {
    "colab": {
      "provenance": [],
      "authorship_tag": "ABX9TyMnzk4+segROPTZDzPJLTMr",
      "include_colab_link": true
    },
    "kernelspec": {
      "name": "python3",
      "display_name": "Python 3"
    },
    "language_info": {
      "name": "python"
    }
  },
  "cells": [
    {
      "cell_type": "markdown",
      "metadata": {
        "id": "view-in-github",
        "colab_type": "text"
      },
      "source": [
        "<a href=\"https://colab.research.google.com/github/cacevedo29/Equipo47/blob/main/PI_Registros_de_Velocidad.ipynb\" target=\"_parent\"><img src=\"https://colab.research.google.com/assets/colab-badge.svg\" alt=\"Open In Colab\"/></a>"
      ]
    },
    {
      "cell_type": "markdown",
      "source": [
        "# Generación de Registros Sintéticos\n",
        "## Instalar Librerias y Dependencias"
      ],
      "metadata": {
        "id": "SFxSlYsVDjuH"
      }
    },
    {
      "cell_type": "code",
      "execution_count": 2,
      "metadata": {
        "colab": {
          "base_uri": "https://localhost:8080/"
        },
        "id": "JGl7_4inlYd6",
        "outputId": "b6eb985c-9391-42ee-862f-2ef3891d6d4f"
      },
      "outputs": [
        {
          "output_type": "stream",
          "name": "stdout",
          "text": [
            "Collecting lasio\n",
            "  Downloading lasio-0.31-py2.py3-none-any.whl (47 kB)\n",
            "\u001b[?25l     \u001b[90m━━━━━━━━━━━━━━━━━━━━━━━━━━━━━━━━━━━━━━━━\u001b[0m \u001b[32m0.0/47.4 kB\u001b[0m \u001b[31m?\u001b[0m eta \u001b[36m-:--:--\u001b[0m\r\u001b[2K     \u001b[90m━━━━━━━━━━━━━━━━━━━━━━━━━━━━━━━━━━━━━━━━\u001b[0m \u001b[32m47.4/47.4 kB\u001b[0m \u001b[31m1.5 MB/s\u001b[0m eta \u001b[36m0:00:00\u001b[0m\n",
            "\u001b[?25hRequirement already satisfied: numpy in /usr/local/lib/python3.10/dist-packages (from lasio) (1.25.2)\n",
            "Installing collected packages: lasio\n",
            "Successfully installed lasio-0.31\n"
          ]
        }
      ],
      "source": [
        "pip install lasio"
      ]
    },
    {
      "cell_type": "markdown",
      "source": [
        "## Importar Librerías"
      ],
      "metadata": {
        "id": "yobXA7soD8vF"
      }
    },
    {
      "cell_type": "code",
      "source": [
        "import pandas as pd\n",
        "import requests\n",
        "import lasio\n",
        "import io\n"
      ],
      "metadata": {
        "id": "wCADDHO-loW4"
      },
      "execution_count": 3,
      "outputs": []
    },
    {
      "cell_type": "markdown",
      "source": [
        "## Función para leer archivos desde GitHub"
      ],
      "metadata": {
        "id": "f-6_InmYDqM1"
      }
    },
    {
      "cell_type": "code",
      "source": [
        "def read_las_from_github(repo_url, file_path):\n",
        "\n",
        "    # Construir la URL del archivo RAW\n",
        "    raw_file_url = f\"{repo_url.rstrip('/').replace('github.com', 'raw.githubusercontent.com')}/main/{file_path}\"\n",
        "\n",
        "    # Obtener el contenido del archivo\n",
        "    response = requests.get(raw_file_url)\n",
        "    if response.status_code == 200:\n",
        "        # Crear un objeto StringIO a partir del contenido del archivo\n",
        "        file_content = \"\\n\".join(response.text.splitlines())\n",
        "        file_obj = io.StringIO(file_content)\n",
        "\n",
        "        # Leer el contenido del archivo LAS\n",
        "        las_data = lasio.read(file_obj)\n",
        "        return las_data\n",
        "    else:\n",
        "        print(f\"Error al obtener el archivo LAS desde {raw_file_url}. Código de estado: {response.status_code}\")\n",
        "        return None\n"
      ],
      "metadata": {
        "id": "4pe0P05tDzOp"
      },
      "execution_count": 4,
      "outputs": []
    },
    {
      "cell_type": "markdown",
      "source": [
        "# Función para leer archivos de directorio de GitHub"
      ],
      "metadata": {
        "id": "Vo6qGKjgEdLa"
      }
    },
    {
      "cell_type": "code",
      "source": [
        "def get_files_in_folder(repo_url, folder_path):\n",
        "\n",
        "    # Construir la URL de la API para obtener el contenido del directorio\n",
        "    api_url = f\"{repo_url.rstrip('/').replace('github.com', 'api.github.com/repos')}/contents/{folder_path}\"\n",
        "\n",
        "    # Realizar la solicitud GET a la API de GitHub\n",
        "    response = requests.get(api_url)\n",
        "\n",
        "    if response.status_code == 200:\n",
        "        # Parsear la respuesta JSON\n",
        "        data = response.json()\n",
        "\n",
        "        # Extraer los nombres de los archivos\n",
        "        file_names = [item['name'] for item in data if item['type'] == 'file']\n",
        "        return file_names\n",
        "    else:\n",
        "        print(f\"Error al obtener la lista de archivos del directorio {folder_path}. Código de estado: {response.status_code}\")\n",
        "        return None"
      ],
      "metadata": {
        "id": "56xE5RHpEwFM"
      },
      "execution_count": 5,
      "outputs": []
    },
    {
      "cell_type": "markdown",
      "source": [
        "Ejecución de Funciones y construcción de estructura de Dataframe para registros"
      ],
      "metadata": {
        "id": "NrhRwLkyEdIA"
      }
    },
    {
      "cell_type": "code",
      "source": [
        "repo_url = \"https://github.com/cacevedo29/Equipo47\"\n",
        "folder_path = \"data\"\n",
        "\n",
        "file_names = get_files_in_folder(repo_url, folder_path)\n",
        "if file_names:\n",
        "    print(\"Archivos en la carpeta 'data':\")\n",
        "    keys_list = []  # Lista para almacenar las keys de todos los archivos leídos\n",
        "    for file_name in file_names:\n",
        "        #print(file_name)\n",
        "        las_data = read_las_from_github(repo_url, f\"{folder_path}/{file_name}\")\n",
        "        if las_data:\n",
        "            keys_list.extend(las_data.keys())  # Agregar las keys del archivo actual a la lista\n",
        "    #print(\"Keys de todos los archivos leídos:\")\n",
        "    print(keys_list)\n",
        "else:\n",
        "    print(\"Error al obtener la lista de archivos.\")"
      ],
      "metadata": {
        "colab": {
          "base_uri": "https://localhost:8080/"
        },
        "id": "PPNjZYf1FTm4",
        "outputId": "2ba7763e-ad8a-4643-f385-cf01fa610513"
      },
      "execution_count": 6,
      "outputs": [
        {
          "output_type": "stream",
          "name": "stdout",
          "text": [
            "Archivos en la carpeta 'data':\n"
          ]
        },
        {
          "output_type": "stream",
          "name": "stderr",
          "text": [
            "WARNING:lasio.las:Only engine='normal' can read wrapped files\n",
            "WARNING:lasio.las:Only engine='normal' can read wrapped files\n",
            "WARNING:lasio.las:Only engine='normal' can read wrapped files\n",
            "WARNING:lasio.las:Only engine='normal' can read wrapped files\n",
            "WARNING:lasio.las:Only engine='normal' can read wrapped files\n",
            "WARNING:lasio.las:Only engine='normal' can read wrapped files\n",
            "WARNING:lasio.las:Only engine='normal' can read wrapped files\n",
            "WARNING:lasio.las:Only engine='normal' can read wrapped files\n",
            "WARNING:lasio.las:Only engine='normal' can read wrapped files\n",
            "WARNING:lasio.las:Only engine='normal' can read wrapped files\n",
            "WARNING:lasio.las:Only engine='normal' can read wrapped files\n",
            "WARNING:lasio.las:Only engine='normal' can read wrapped files\n",
            "WARNING:lasio.las:Only engine='normal' can read wrapped files\n",
            "WARNING:lasio.las:Only engine='normal' can read wrapped files\n",
            "WARNING:lasio.las:Only engine='normal' can read wrapped files\n",
            "WARNING:lasio.las:Only engine='normal' can read wrapped files\n",
            "WARNING:lasio.las:Only engine='normal' can read wrapped files\n",
            "WARNING:lasio.las:Only engine='normal' can read wrapped files\n",
            "WARNING:lasio.las:Only engine='normal' can read wrapped files\n",
            "WARNING:lasio.las:Only engine='normal' can read wrapped files\n",
            "WARNING:lasio.las:Only engine='normal' can read wrapped files\n",
            "WARNING:lasio.las:Only engine='normal' can read wrapped files\n",
            "WARNING:lasio.las:Only engine='normal' can read wrapped files\n",
            "WARNING:lasio.las:Only engine='normal' can read wrapped files\n"
          ]
        },
        {
          "output_type": "stream",
          "name": "stdout",
          "text": [
            "['DEPTH', 'CAL', 'DRHO', 'DT', 'GR', 'ILD', 'LLD', 'LLS', 'MSFL', 'NPHI', 'PEF', 'RHOB', 'SIGM', 'SP', 'TAU', 'DEPTH', 'DRHO', 'DT', 'GR', 'ILD', 'LLD', 'LLS', 'MSFL', 'NPHI', 'RHOB', 'SIGM', 'SP', 'DEPTH', 'CALI', 'DRHO', 'DT', 'GR', 'ILD', 'LLD', 'LLS', 'MSFL', 'NPHI', 'PEF', 'RHOB', 'SP', 'DEPTH', 'CGR', 'DT', 'GR-LWD', 'GR', 'LLD-LWD', 'LLM-LWD', 'LLS-LWD', 'MSFL-LWD', 'NPHI', 'POTA', 'THOR', 'URAN', 'DEPTH', 'CGR', 'DT', 'GR', 'GR-LWD', 'LLD-LWD', 'LLS-LWD', 'MSFL-LWD', 'NPHI', 'POTA', 'THOR', 'URAN', 'DEPTH', 'CALI', 'DRHO', 'DT', 'GR', 'ILD', 'LLD', 'LLS', 'MSFL', 'NPHI', 'PEF', 'RHOB', 'SP', 'DEPTH', 'CALI', 'DRHO', 'DT', 'GR', 'ILD', 'ILM', 'LLD', 'LLS', 'MSFL', 'NPHI', 'PEF', 'RHOB', 'SP', 'DEPTH', 'CGR', 'DT', 'GR', 'GR-LWD', 'ILD-LWD', 'ILM-LWD', 'NPHI', 'POTA', 'SIGM', 'THOR', 'URAN', 'DEPTH', 'CALI', 'DRHO', 'DT', 'GR-LWD', 'GR', 'ILD-LWD', 'ILM-LWD', 'LLD', 'LLS', 'MSFL', 'NPHI', 'PEF', 'RHOB', 'SP', 'DEPTH', 'CALI', 'DRHO', 'DT', 'GR', 'ILD', 'ILM', 'LLD', 'LLS', 'MSFL', 'NPHI', 'PEF', 'RHOB', 'SP', 'DEPTH', 'CALI', 'CGR', 'DRHO', 'DT', 'GR', 'ILD', 'ILM', 'LLD', 'LLS', 'MSFL', 'NPHI', 'PEF', 'POTA', 'RHOB', 'THOR', 'URAN', 'DEPTH', 'CALI', 'CGR', 'DRHO', 'DT', 'GR', 'ILD', 'ILM', 'LLD', 'LLS', 'MSFL', 'NPHI', 'PEF', 'POTA', 'RHOB', 'SP', 'THOR', 'URAN', 'DEPTH', 'CALI', 'CGR', 'DRHO', 'DT', 'GR-LWD', 'ILD-LWD', 'ILM-LWD', 'LLD-LWD', 'LLD', 'LLS', 'MSFL', 'NPHI', 'PEF', 'POTA', 'RHOB', 'SGR', 'THOR', 'URAN', 'DEPTH', 'CALI', 'CGR', 'DRHO', 'DT', 'GR', 'ILD', 'LLD', 'LLS', 'MSFL', 'NPHI', 'POTA', 'RHOB', 'SIGM', 'SIGMA', 'SP', 'TAU', 'THOR', 'URAN', 'DEPTH', 'CALI', 'CGR', 'DRHO', 'DT', 'GR', 'GR-LWD', 'ILD-LWD', 'ILM-LWD', 'LLD', 'LLD-LWD', 'LLS', 'LLS-LWD', 'MSFL', 'MSFL-LWD', 'NPHI', 'PEF', 'POTA', 'RHOB', 'THOR', 'URAN', 'DEPTH', 'CALI', 'DRHO', 'DT', 'GR', 'ILD', 'ILM', 'LLD', 'LLS', 'MSFL', 'NPHI', 'PEF', 'RHOB', 'DEPTH', 'CALI', 'DRHO', 'DT', 'GR', 'ILD', 'ILM', 'LLD', 'LLS', 'MSFL', 'NPHI', 'PEF', 'RHOB', 'DEPTH', 'DT', 'GR', 'ILD', 'ILM', 'LLD', 'LLS', 'NPHI', 'SIGM', 'SP', 'DEPTH', 'CALI', 'DRHO', 'DT', 'LLD', 'MSFL', 'NPHI', 'RHOB', 'SIGM', 'SP', 'TAU', 'DEPTH', 'CALI', 'DRHO', 'DT', 'GR', 'GR-LWD', 'LLD', 'LLD-LWD', 'LLS', 'LLS-LWD', 'MSFL', 'MSFL-LWD', 'NPHI', 'PEF', 'RHOB', 'SP', 'DEPTH', 'CALI', 'CGR', 'DRHO', 'DT', 'GR', 'GR-LWD', 'ILD-LWD', 'ILM-LWD', 'LLD', 'LLS', 'MSFL', 'NPHI', 'PEF', 'POTA', 'RHOB', 'SP', 'THOR', 'URAN', 'DEPTH', 'CGR', 'DT', 'GR', 'GR-LWD', 'ILD-LWD', 'ILM-LWD', 'NPHI', 'POTA', 'THOR', 'URAN', 'DEPTH', 'CALI', 'DRHO', 'DT', 'GR', 'ILD', 'ILM', 'LLD', 'LLS', 'MSFL', 'NPHI', 'PEF', 'RHOB', 'SP', 'DEPTH', 'CALI', 'DRHO', 'DT', 'GR', 'ILD', 'LLD', 'LLS', 'MSFL', 'NPHI', 'PEF', 'RHOB', 'SIGM', 'SP', 'TAU', 'DEPTH', 'CALI', 'CGR', 'DRHO', 'DT', 'GR', 'ILD', 'LLD', 'LLS', 'MSFL', 'NPHI', 'PEF', 'POTA', 'RHOB', 'SIGM', 'SP', 'THOR', 'URAN', 'DEPTH', 'CALI', 'CGR', 'DRHO', 'DT', 'GR', 'ILD', 'ILM', 'LLD', 'LLS', 'MSFL', 'NPHI', 'PEF', 'POTA', 'RHOB', 'SP', 'THOR', 'URAN', 'DEPTH', 'CALI', 'CGR', 'DRHO', 'DT', 'GR', 'GR-LWD', 'ILD', 'ILM', 'LLD', 'LLD-LWD', 'LLS', 'LLS-LWD', 'MSFL', 'NPHI', 'PEF', 'POTA', 'RHOB', 'THOR', 'URAN', 'DEPTH', 'CALI', 'DRHO', 'DT', 'GR', 'ILD', 'ILM', 'LLD', 'LLS', 'MSFL', 'NPHI', 'PEF', 'RHOB', 'DEPTH', 'CALI', 'DRHO', 'DT', 'GR', 'ILD', 'ILM', 'LLD', 'LLS', 'MSFL', 'NPHI', 'PEF', 'RHOB', 'SP', 'DEPTH', 'DT', 'GR', 'ILD', 'LLD', 'LLS', 'NPHI', 'RHOB', 'SIGM', 'TAU', 'DEPTH', 'CALI', 'CGR', 'DRHO', 'DT', 'GR', 'ILD', 'ILM', 'NPHI', 'PEF', 'POTA', 'RHOB', 'SP', 'THOR', 'URAN', 'DEPTH', 'CALI', 'CGR', 'DRHO', 'DT', 'GR', 'ILD', 'ILM', 'LLD', 'LLS', 'MSFL', 'NPHI', 'PEF', 'POTA', 'RHOB', 'SP', 'THOR', 'URAN', 'DEPTH', 'CALI', 'DT', 'GR', 'ILD', 'LLD', 'LLS', 'NPHI', 'RHOB', 'SIGM', 'TAU', 'DEPTH', 'CALI', 'CGR', 'DRHO', 'DT', 'GR', 'GR-LWD', 'ILD-LWD', 'ILM-LWD', 'LLD', 'LLS', 'MSFL', 'NPHI', 'PEF', 'POTA', 'RHOB', 'SIGM', 'SP', 'THOR', 'URAN', 'DEPTH', 'CALI', 'CGR', 'DRHO', 'DT', 'GR', 'ILD', 'ILM', 'LLD', 'LLS', 'MSFL', 'NPHI', 'PEF', 'POTA', 'RHOB', 'SIGM', 'SP', 'TAU', 'THOR', 'URAN', 'DEPTH', 'DT', 'GR', 'ILD', 'ILM', 'DEPTH', 'CALI', 'CGR', 'DRHO', 'DT', 'GR', 'ILD', 'ILM', 'LLD', 'LLS', 'MSFL', 'NPHI', 'PEF', 'POTA', 'RHOB', 'SP', 'THOR', 'URAN', 'DEPTH', 'CALI', 'CGR', 'DRHO', 'DT', 'GR', 'ILD', 'ILM', 'LLD', 'LLS', 'MSFL', 'NPHI', 'PEF', 'POTA', 'RHOB', 'SP', 'THOR', 'URAN', 'DEPTH', 'CALI', 'CGR', 'DRHO', 'DT', 'GR', 'ILD', 'ILM', 'LLD', 'LLS', 'MSFL', 'NPHI', 'PEF', 'POTA', 'RHOB', 'SP', 'THOR', 'URAN', 'DEPTH', 'CALI', 'CGR', 'DRHO', 'DT', 'GR', 'ILD', 'LLD', 'LLS', 'MNOR', 'MSFL', 'NPHI', 'POTA', 'RHOB', 'THOR', 'URAN', 'DEPTH', 'CALI', 'DRHO', 'DT', 'GR', 'ILD', 'ILM', 'LLD', 'LLS', 'MSFL', 'NPHI', 'PEF', 'RHOB', 'SP', 'DEPTH', 'DT', 'GR', 'GR-LWD', 'ILD-LWD', 'ILM-LWD', 'DEPTH', 'CALI', 'CGR', 'DRHO', 'DT', 'GR', 'ILD', 'LLD', 'LLS', 'MSFL', 'NPHI', 'PEF', 'POTA', 'RHOB', 'SFLU', 'SP', 'THOR', 'URAN', 'DEPTH', 'CALI', 'DT', 'GR', 'ILD', 'LLD', 'LLS', 'MSFL', 'NPHI', 'RHOB', 'DEPTH', 'CGR', 'DRHO-LWD', 'DT', 'GR', 'GR-LWD', 'ILD-LWD', 'ILM-LWD', 'LLD', 'LLS', 'MSFL', 'NPHI', 'POTA', 'RHOB', 'SP', 'THOR', 'URAN', 'DEPTH', 'CALI', 'DRHO', 'DT', 'GR', 'ILD', 'LLD', 'LLS', 'MSFL', 'NPHI', 'RHOB', 'DEPTH', 'CALI', 'DRHO', 'DT', 'GR', 'ILD', 'LLD', 'LLS', 'MSFL', 'NPHI', 'RHOB', 'SP', 'DEPTH', 'CALI', 'CGR', 'DRHO', 'DT', 'GR', 'LLD', 'LLS', 'MSFL', 'NPHI', 'PEF', 'POTA', 'RHOB', 'THOR', 'URAN', 'DEPTH', 'CALI', 'DRHO', 'DT', 'GR', 'GR-LWD', 'ILD', 'ILD-LWD', 'ILM', 'ILM-LWD', 'LLD', 'LLS', 'MSFL', 'NPHI', 'PEF', 'RHOB', 'SP', 'DEPTH', 'CALI', 'DT', 'GR', 'ILD', 'LLD', 'LLS', 'MSFL', 'NPHI', 'RHOB', 'DEPTH', 'CALI', 'CGR', 'DRHO', 'DT', 'GR', 'ILD', 'ILM', 'LLD', 'LLS', 'MSFL', 'NPHI', 'PEF', 'POTA', 'RHOB', 'SP', 'THOR', 'URAN', 'DEPTH', 'DT', 'GR', 'ILD', 'LLD', 'LLS', 'MSFL', 'NPHI', 'RHOB', 'SIGMA', 'DEPTH', 'CALI', 'CGR', 'DRHO', 'DT', 'GR', 'ILD', 'ILM', 'LLD', 'LLS', 'MSFL', 'NPHI', 'PEF', 'POTA', 'RHOB', 'SP', 'THOR', 'URAN', 'DEPTH', 'DT', 'GR', 'ILD', 'LLD', 'LLS', 'MSFL', 'NPHI', 'RHOB', 'DEPTH', 'CALI', 'DRHO', 'DT', 'GR', 'ILD', 'LLD', 'LLS', 'MSFL', 'NPHI', 'RHOB', 'SIGM', 'DEPTH', 'CALI', 'CGR', 'DRHO', 'DT', 'GR', 'ILD', 'ILM', 'LLD', 'LLS', 'MSFL', 'NPHI', 'PEF', 'POTA', 'RHOB', 'SP', 'THOR', 'URAN', 'DEPTH', 'CALI', 'DRHO', 'DT', 'GR', 'ILD', 'LLD', 'LLS', 'MSFL', 'NPHI', 'RHOB', 'DEPTH', 'CALI', 'DT', 'GR', 'ILD', 'LLD', 'LLS', 'MSFL', 'NPHI', 'RHOB', 'DEPTH', 'CALI', 'CGR', 'DRHO', 'DT', 'GR', 'ILD', 'ILM', 'LLD', 'LLS', 'MSFL', 'NPHI', 'PEF', 'POTA', 'RHOB', 'THOR', 'URAN', 'DEPTH', 'CALI', 'CGR', 'DRHO', 'DT', 'GR', 'ILD', 'ILM', 'LLD', 'LLS', 'MSFL', 'NPHI', 'PEF', 'POTA', 'RHOB', 'SIGM', 'THOR', 'URAN', 'DEPTH', 'CGR', 'DRHO', 'DT', 'GR', 'ILD', 'ILM', 'LLD', 'LLS', 'MSFL', 'NPHI', 'PEF', 'POTA', 'RHOB', 'THOR', 'URAN', 'DEPTH', 'CALI', 'CGR', 'DRHO', 'DT', 'GR', 'LLD', 'LLS', 'NPHI', 'PEF', 'POTA', 'RHOB', 'THOR', 'URAN', 'DEPTH', 'CALI', 'CGR', 'DRHO', 'DT', 'GR', 'GR-LWD', 'ILD', 'ILD-LWD', 'ILM', 'ILM-LWD', 'LLD', 'LLS', 'MSFL', 'NPHI', 'PEF', 'POTA', 'RHOB', 'SP', 'THOR', 'URAN', 'DEPTH', 'CGR', 'DT', 'GR', 'GR-LWD', 'ILD-LWD', 'ILM-LWD', 'NPHI', 'POTA', 'THOR', 'URAN', 'DEPTH', 'CALI', 'CGR', 'DRHO', 'DT', 'GR-LWD', 'GR', 'LLD-LWD', 'LLD', 'LLS-LWD', 'LLS', 'MSFL', 'NPHI', 'PEF', 'POTA', 'RHOB', 'THOR', 'URAN', 'DEPTH', 'CALI', 'DRHO', 'DT', 'GR-LWD', 'GR', 'LLD-LWD', 'LLM-LWD', 'LLS-LWD', 'MSFL-LWD', 'PEF', 'RHOB', 'DEPTH', 'CGR', 'CGR-ENT', 'DT', 'GR', 'GR-ENT', 'GR-LWD', 'LLD', 'LLD-LWD', 'LLM-LWD', 'LLS', 'LLS-LWD', 'MSFL-LWD', 'NPHI', 'POTA', 'POTA-ENT', 'THOR', 'THOR-ENT', 'URAN', 'URAN-ENT', 'DEPTH', 'CALI', 'CGR', 'DRHO', 'DT', 'GR', 'GR-LWD', 'ILD', 'ILM', 'LLD', 'LLD-LWD', 'LLS', 'LLS-LWD', 'MSFL', 'MSFL-LWD', 'NPHI', 'PEF', 'POTA', 'RHOB', 'SP', 'THOR', 'URAN', 'DEPTH', 'CALI', 'CGR', 'DRHO', 'DT', 'GR', 'ILD', 'ILM', 'LLD', 'LLS', 'MSFL', 'NPHI', 'PEF', 'POTA', 'RHOB', 'SP', 'THOR', 'URAN', 'DEPTH', 'CGR', 'DT', 'GR', 'GR-LWD', 'LLD-LWD', 'LLS-LWD', 'MSFL-LWD', 'NPHI', 'POTA', 'THOR', 'URAN', 'DEPTH', 'DT', 'GR', 'GR-LWD', 'ILD-LWD', 'ILM-LWD', 'DEPTH', 'CGR', 'DT', 'GR-LWD', 'GR', 'ILD', 'ILM', 'LLD-LWD', 'LLM-LWD', 'LLS-LWD', 'MSFL-LWD', 'NPHI', 'POTA', 'THOR', 'URAN', 'DEPTH', 'CGR', 'DT', 'GR-LWD', 'GR', 'LLD-LWD', 'LLS-LWD', 'MSFL-LWD', 'NPHI', 'POTA', 'SIGM', 'THOR', 'URAN', 'DEPTH', 'CALI', 'CGR', 'DRHO', 'DRHO-LWD', 'DT', 'DT-LWD', 'GR', 'GR-LWD', 'ILD-LWD', 'ILM-LWD', 'LLD', 'LLS', 'MSFL', 'NPHI', 'NPHI-LWD', 'PEF', 'PEF-LWD', 'POTA', 'RHOB', 'RHOB-LWD', 'THOR', 'URAN', 'DEPTH', 'CALI', 'CGR', 'DRHO', 'DT', 'GR', 'GR-LWD', 'LLD', 'LLD-LWD', 'LLS', 'LLS-LWD', 'MSFL', 'MSFL-LWD', 'NPHI', 'PEF', 'POTA', 'RHOB', 'THOR', 'URAN', 'DEPTH', 'CALI', 'CGR', 'DRHO', 'DT', 'GR', 'ILD', 'ILM', 'LLD', 'LLS', 'MSFL', 'NPHI', 'PEF', 'POTA', 'RHOB', 'SP', 'THOR', 'URAN', 'DEPTH', 'CALI', 'DRHO', 'DT', 'GR', 'ILD', 'ILM', 'LLD', 'LLS', 'MSFL', 'NPHI', 'PEF', 'RHOB', 'DEPTH', 'CALI', 'CGR-ENT', 'DRHO', 'DT', 'GR-ENT', 'GR-LWD', 'GR', 'ILD-LWD', 'ILM-LWD', 'LLD-LWD', 'LLD', 'LLS-LWD', 'LLS', 'MSFL', 'NPHI-ENT', 'NPHI', 'PEF', 'POTA-ENT', 'RHOB', 'SP', 'THOR-ENT', 'URAN-ENT', 'DEPTH', 'CALI', 'CGR', 'DRHO', 'DT', 'GR', 'ILD', 'ILM', 'LLD', 'LLS', 'MSFL', 'NPHI', 'PEF', 'POTA', 'RHOB', 'SP', 'THOR', 'URAN', 'DEPTH', 'CALI', 'CGR', 'DRHO', 'DT', 'GR', 'GR-LWD', 'ILD', 'ILD-LWD', 'ILM', 'ILM-LWD', 'LLD', 'LLS', 'MSFL', 'NPHI', 'NPHI_ENT', 'PEF', 'POTA', 'RHOB', 'SP', 'THOR', 'TNPH', 'URAN', 'DEPTH', 'CALI', 'DRHO', 'DT', 'GR', 'ILD', 'LLD', 'LLS', 'NPHI', 'RHOB', 'DEPTH', 'CALI', 'CGR', 'DRHO', 'DT', 'GR', 'ILD', 'ILM', 'LLD', 'LLS', 'MSFL', 'NPHI', 'PEF', 'POTA', 'RHOB', 'SP', 'THOR', 'URAN', 'DEPTH', 'CALI', 'DRHO', 'DT', 'GR', 'ILD', 'ILM', 'LLD', 'LLS', 'MSFL', 'NPHI', 'PEF', 'RHOB', 'SIGM', 'SP', 'DEPTH', 'CALI', 'CGR', 'DRHO', 'DT', 'GR', 'ILD', 'ILM', 'LLD', 'LLS', 'MSFL', 'NPHI', 'PEF', 'POTA', 'RHOB', 'THOR', 'URAN', 'DEPTH', 'CALI', 'DT', 'GR', 'ILD', 'LLD', 'LLS', 'NPHI', 'RHOB', 'SIGM', 'SP', 'TAU', 'DEPTH', 'CALI', 'CGR', 'DRHO', 'DT', 'GR', 'ILD', 'ILM', 'LLD', 'LLS', 'MSFL', 'NPHI', 'PEF', 'POTA', 'RHOB', 'SP', 'THOR', 'URAN', 'DEPTH', 'CALI', 'CGR', 'DRHO', 'DT', 'GR-LWD', 'GR', 'ILD-LWD', 'ILM-LWD', 'LLD-LWD', 'LLD', 'LLS-LWD', 'LLS', 'MSFL-LWD', 'MSFL', 'NPHI', 'PEF', 'POTA', 'RHOB', 'SIGM', 'THOR', 'URAN', 'DEPTH', 'CALI', 'DRHO', 'DT', 'GR', 'ILD', 'ILM', 'LLD', 'LLS', 'MSFL', 'NPHI', 'PEF', 'RHOB', 'DEPTH', 'CALI', 'CGR', 'DRHO', 'DT', 'GR', 'ILD', 'LLD', 'LLS', 'MSFL', 'NPHI', 'POTA', 'RHOB', 'THOR', 'URAN', 'DEPTH', 'CALI', 'CGR', 'DRHO', 'DT', 'GR', 'ILD', 'LLD', 'LLS', 'MSFL', 'NPHI', 'PEF', 'POTA', 'RHOB', 'SIGM', 'THOR', 'URAN', 'DEPTH', 'CALI', 'DRHO', 'DT', 'GR', 'ILD', 'ILM', 'NPHI', 'RHOB', 'SP', 'DEPTH', 'CALI', 'DRHO', 'DT', 'GR', 'GR-LWD', 'ILD-LWD', 'ILM-LWD', 'LLD-LWD', 'LLS', 'LLS-LWD', 'MSFL', 'MSFL-LWD', 'NPHI', 'PEF', 'RHOB', 'DEPTH', 'CALI', 'CGR', 'DRHO', 'DT', 'GR', 'ILD', 'ILM', 'LLD', 'LLS', 'MSFL', 'NPHI', 'PEF', 'POTA', 'RHOB', 'SFLU', 'SN', 'THOR', 'URAN', 'DEPTH', 'CGR', 'DT', 'GR', 'GR-LWD', 'ILD', 'ILD-LWD', 'ILM', 'ILM-LWD', 'NPHI', 'POTA', 'THOR', 'URAN', 'DEPTH', 'DT', 'GR', 'GR-LWD', 'ILD', 'ILD-LWD', 'ILM', 'ILM-LWD', 'DEPTH', 'CALI', 'CGR', 'DRHO', 'DT', 'GR', 'ILD', 'ILM', 'LLD', 'LLS', 'MSFL', 'NPHI', 'PEF', 'POTA', 'RHOB', 'THOR', 'URAN', 'DEPTH', 'CALI', 'CGR', 'DRHO', 'DT', 'GR', 'GR-LWD', 'ILD-LWD', 'ILM-LWD', 'LLD', 'LLS', 'MSFL', 'NPHI', 'PEF', 'POTA', 'RHOB', 'THOR', 'URAN', 'DEPTH', 'CALI', 'CGR', 'DRHO', 'DT', 'GR', 'ILD', 'ILM', 'LLD', 'LLS', 'MSFL', 'NPHI', 'PEF', 'POTA', 'RHOB', 'THOR', 'URAN', 'DEPTH', 'CALI', 'DRHO', 'DT', 'GR', 'ILD', 'ILM', 'LLD', 'LLS', 'MSFL', 'NPHI', 'PEF', 'RHOB', 'DEPTH', 'CALI', 'DRHO', 'DT', 'GR', 'ILD', 'ILM', 'LLD', 'LLS', 'MSFL', 'NPHI', 'PEF', 'RHOB', 'DEPTH', 'CALI', 'DRHO', 'DT', 'GR', 'ILD', 'ILM', 'LLD', 'LLS', 'MSFL', 'NPHI', 'PEF', 'RHOB', 'DEPTH', 'CALI', 'DT', 'GR', 'ILD', 'LLD', 'LLS', 'MSFL', 'NPHI', 'DEPTH', 'CALI', 'DRHO', 'DT', 'GR', 'ILD', 'ILM', 'LLD', 'LLS', 'MSFL', 'NPHI', 'PEF', 'RHOB', 'DEPTH', 'CALI', 'CGR', 'DRHO', 'DT', 'GR', 'ILD', 'LLD', 'LLS', 'MSFL', 'NPHI', 'PEF', 'POTA', 'RHOB', 'THOR', 'URAN', 'DEPTH', 'CALI', 'CGR', 'DRHO', 'DT', 'GR', 'ILD', 'ILM', 'LLD', 'LLS', 'MSFL', 'NPHI', 'PEF', 'POTA', 'RHOB', 'THOR', 'URAN', 'DEPTH', 'CALI', 'DRHO', 'DT', 'GR', 'GR-LWD', 'ILD', 'ILD-LWD', 'ILM', 'ILM-LWD', 'NPHI', 'PEF', 'RHOB', 'DEPTH', 'CALI', 'CGR', 'DRHO', 'DT', 'GR', 'ILD', 'ILM', 'LLD', 'LLS', 'NPHI', 'PEF', 'POTA', 'RHOB', 'THOR', 'URAN', 'DEPTH', 'CALI', 'DRHO', 'DT', 'GR', 'ILD', 'ILM', 'LLD', 'LLS', 'MSFL', 'NPHI', 'PEF', 'RHOB', 'DEPTH', 'CALI', 'DRHO', 'DT', 'GR', 'ILD', 'NPHI', 'RHOB', 'DEPTH', 'CALI', 'CGR', 'DRHO', 'DT', 'GR', 'ILD', 'ILM', 'LLD', 'LLS', 'MSFL', 'NPHI', 'PEF', 'POTA', 'RHOB', 'THOR', 'URAN', 'DEPTH', 'CALI', 'CGR', 'DRHO', 'DT', 'GR', 'ILD', 'ILM', 'LLD', 'LLS', 'MSFL', 'NPHI', 'PEF', 'POTA', 'RHOB', 'SP', 'THOR', 'URAN', 'DEPTH', 'CALI', 'CGR', 'DRHO', 'DT', 'GR', 'GR-LWD', 'ILD', 'ILM', 'LLD', 'LLD-LWD', 'LLS', 'LLS-LWD', 'MSFL', 'MSFL-LWD', 'NPHI', 'PEF', 'POTA', 'RHOB', 'THOR', 'URAN', 'DEPTH', 'CALI', 'DT', 'GR', 'ILD', 'LLD', 'LLS', 'MSFL', 'NPHI', 'PEF', 'RHOB', 'DEPTH', 'CALI', 'DRHO', 'DT', 'GR', 'ILD', 'LLD', 'LLS', 'NPHI', 'RHOB', 'DEPTH', 'CALI', 'DRHO', 'DT', 'ILD', 'LLD', 'LLS', 'MSFL', 'NPHI', 'GR', 'RHOB', 'DEPTH', 'CALI', 'DRHO', 'DT', 'GR', 'ILD', 'ILM', 'LLD', 'LLS', 'MSFL', 'NPHI', 'PEF', 'RHOB', 'DEPTH', 'CALI', 'CGR', 'DRHO', 'DT', 'GR', 'ILD', 'ILM', 'LLD', 'LLS', 'NPHI', 'PEF', 'POTA', 'RHOB', 'THOR', 'URAN', 'DEPTH', 'CALI', 'CGR', 'DRHO', 'DT', 'GR', 'ILD', 'ILM', 'LLD', 'LLS', 'MSFL', 'NPHI', 'PEF', 'POTA', 'RHOB', 'THOR', 'URAN', 'DEPTH', 'CALI', 'CGR', 'DRHO', 'DT', 'GR', 'ILD', 'ILM', 'LLD', 'LLS', 'MSFL', 'NPHI', 'PEF', 'POTA', 'RHOB', 'SFLU', 'THOR', 'URAN', 'DEPTH', 'CALI', 'DRHO', 'DT', 'GR', 'ILD', 'ILM', 'LLD', 'LLS', 'MSFL', 'NPHI', 'PEF', 'RHOB', 'DEPTH', 'CALI', 'CGR', 'DRHO', 'DT', 'GR', 'ILD', 'LLD', 'LLS', 'MSFL', 'NPHI', 'PEF', 'POTA', 'RHOB', 'THOR', 'URAN', 'DEPTH', 'CALI', 'DRHO', 'DT', 'GR', 'ILD', 'LLD', 'LLS', 'MSFL', 'NPHI', 'RHOB', 'DEPTH', 'CALI', 'DRHO', 'DT', 'GR', 'ILD', 'LLD', 'LLS', 'MSFL', 'NPHI', 'PEF', 'RHOB', 'DEPTH', 'CALI', 'CGR', 'DRHO', 'DT', 'GR', 'GR-LWD', 'ILD', 'ILM', 'LLD', 'LLD-LWD', 'LLS', 'LLS-LWD', 'MSFL', 'MSFL-LWD', 'NPHI', 'PEF', 'POTA', 'RHOB', 'THOR', 'URAN', 'DEPTH', 'CALI', 'DRHO', 'DT', 'GR', 'ILD', 'LLD', 'LLS', 'MSFL', 'NPHI', 'PEF', 'RHOB', 'DEPTH', 'CALI', 'DRHO', 'DT', 'GR', 'ILD', 'NPHI', 'RHOB', 'SP', 'DEPTH', 'CALI', 'CGR', 'DRHO', 'DT', 'GR', 'GR-LWD', 'ILD-LWD', 'ILM-LWD', 'LLD', 'LLS', 'MSFL', 'NPHI', 'PEF', 'POTA', 'RHOB', 'SP', 'THOR', 'URAN', 'DEPTH', 'CALI', 'CGR', 'DRHO', 'DT', 'GR', 'GR-LWD', 'ILD', 'ILD-LWD', 'ILM', 'ILM-LWD', 'LLD', 'LLD-LWD', 'LLS', 'LLS-LWD', 'MSFL', 'MSFL-LWD', 'NPHI', 'PEF', 'POTA', 'RHOB', 'THOR', 'URAN', 'DEPTH', 'CALI', 'CGR', 'DRHO', 'DT', 'GR', 'ILD', 'ILM', 'NPHI', 'PEF', 'POTA', 'RHOB', 'THOR', 'URAN', 'DEPTH', 'CALI', 'CGR', 'DRHO', 'DT', 'GR', 'ILD', 'ILM', 'LLD', 'LLS', 'MSFL', 'NPHI', 'PEF', 'POTA', 'RHOB', 'THOR', 'URAN', 'DEPTH', 'TVD', 'BS', 'CALI', 'CGR', 'DRHO', 'DT', 'GR', 'GR-LWD', 'ILD', 'ILD-LWD', 'ILM', 'ILM-LWD', 'LLD', 'LLS', 'MSFL', 'NPHI', 'PEF', 'POTA', 'RHOB', 'SP', 'THOR', 'URAN', 'DEPTH', 'CALI', 'DRHO', 'DT', 'GR', 'ILD', 'LLD', 'LLS', 'MSFL', 'NPHI', 'RHOB', 'DEPTH', 'CALI', 'CGR', 'DRHO', 'DT', 'GR', 'ILD', 'ILD-LWD', 'ILM', 'ILM-LWD', 'LLD', 'LLS', 'MSFL', 'NPHI', 'PEF', 'POTA', 'RHOB', 'THOR', 'URAN', 'DEPTH', 'CALI', 'DRHO', 'DT', 'GR', 'ILD', 'LLD', 'LLS', 'MSFL', 'NPHI', 'RHOB', 'SP', 'DEPTH', 'CALI', 'DRHO', 'DT', 'GR', 'ILD', 'NPHI', 'RHOB', 'DEPTH', 'CALI', 'DRHO', 'DT', 'GR', 'ILD', 'LLD', 'LLS', 'MSFL', 'NPHI', 'RHOB', 'DEPTH', 'CALI', 'CGR', 'DRHO', 'DT', 'GR', 'ILD', 'LLD', 'LLS', 'MSFL', 'NPHI', 'POTA', 'RHOB', 'THOR', 'URAN', 'DEPTH', 'CALI', 'CGR', 'DRHO', 'DT', 'GR', 'GR-LWD', 'LLD', 'LLD-LWD', 'LLS', 'LLS-LWD', 'MSFL', 'MSFL-LWD', 'NPHI', 'PEF', 'POTA', 'RHOB', 'THOR', 'URAN', 'DEPTH', 'CALI', 'DRHO', 'DT', 'GR', 'ILD', 'LLD', 'LLS', 'NPHI', 'PEF', 'RHOB', 'DEPTH', 'CALI', 'CGR', 'DRHO', 'DT', 'GR', 'ILD', 'ILM', 'LLD', 'LLS', 'MSFL', 'NPHI', 'PEF', 'POTA', 'RHOB', 'THOR', 'URAN', 'DEPTH', 'CALI', 'CGR', 'DRHO', 'DT', 'GR', 'LLD', 'LLS', 'MSFL', 'NPHI', 'PEF', 'POTA', 'RHOB', 'THOR', 'URAN', 'DEPTH', 'CALI', 'CGR', 'DRHO', 'DT', 'GR', 'ILD', 'ILM', 'NPHI', 'PEF', 'POTA', 'RHOB', 'THOR', 'URAN', 'DEPTH', 'CALI', 'DRHO', 'DT', 'GR', 'ILD', 'ILM', 'LLD', 'LLS', 'MSFL', 'NPHI', 'PEF', 'RHOB', 'DEPTH', 'CALIH-LWD', 'CALIV-LWD', 'CGR', 'DRHO-LWD', 'DT', 'GR', 'GR-LWD', 'ILD-LWD', 'ILM-LWD', 'LLD-LWD', 'LLS-LWD', 'MSFL-LWD', 'NPHI-LWD', 'PEF-LWD', 'POTA', 'RHOB-LWD', 'THOR', 'URAN', 'DEPTH', 'CALI', 'CGR', 'DRHO', 'DT', 'GR', 'ILD', 'ILM', 'LLD', 'LLS', 'MSFL', 'NPHI', 'PEF', 'POTA', 'RHOB', 'THOR', 'URAN', 'DEPTH', 'CALI', 'CGR', 'DRHO', 'DT', 'DTCO', 'GR', 'ILD', 'ILM', 'LLD', 'LLS', 'MSFL', 'NPHI', 'PEF', 'POTA', 'RHOB', 'THOR', 'URAN', 'DEPTH', 'CAL', 'CALI', 'CNL', 'DT', 'GR', 'ILD', 'ILM', 'LLD', 'LLS', 'NPHI', 'PEF', 'RHOB', 'DEPTH', 'CALI', 'CGR', 'DRHO', 'DT', 'GR', 'ILD', 'LLD', 'LLS', 'MSFL', 'NPHI', 'PEF', 'POTA', 'RHOB', 'THOR', 'URAN', 'DEPTH', 'CALI', 'CGR', 'DRHO', 'DT', 'GR', 'GR-LWD', 'ILD-LWD', 'ILM-LWD', 'LLD', 'LLS', 'MSFL', 'NPHI', 'PEF', 'POTA', 'RHOB', 'THOR', 'URAN', 'DEPTH', 'CALI', 'CGR', 'DRHO', 'DT', 'GR', 'LLD', 'LLS', 'MSFL', 'NPHI', 'PEF', 'POTA', 'RHOB', 'THOR', 'URAN', 'DEPTH', 'CALI', 'DRHO', 'DT', 'GR', 'LLD', 'LLS', 'MSFL', 'NPHI', 'PEF', 'RHOB', 'DEPTH', 'CALI', 'CGR', 'DRHO', 'DT', 'GR', 'GR-LWD', 'LLD', 'LLD-LWD', 'LLS', 'LLS-LWD', 'MSFL', 'MSFL-LWD', 'NPHI', 'PEF', 'POTA', 'RHOB', 'THOR', 'URAN', 'DEPTH', 'CALI', 'CGR', 'DRHO', 'DT', 'GR', 'GR-LWD', 'LLD-LWD', 'LLS-LWD', 'MSFL-LWD', 'NPHI', 'PEF', 'POTA', 'RHOB', 'THOR', 'URAN', 'DEPTH', 'CALI', 'DRHO', 'DT', 'GR', 'GR-LWD', 'ILD-LWD', 'ILM-LWD', 'NPHI', 'PEF', 'RHOB', 'DEPTH', 'CALI', 'CGR', 'DRHO', 'DT', 'GR', 'ILD', 'ILM', 'LLD', 'LLS', 'MSFL', 'NPHI', 'PEF', 'POTA', 'RHOB', 'SFLU', 'THOR', 'URAN', 'DEPTH', 'CALI', 'CGR', 'CNL-ENTUB1', 'DRHO', 'DT', 'GR', 'GR-LWD', 'ILD', 'ILM', 'LLD', 'LLD-LWD', 'LLS', 'LLS-LWD', 'MSFL', 'NPHI', 'PEF', 'POTA', 'RHOB', 'THOR', 'URAN', 'DEPTH', 'CALI', 'CGR', 'DRHO', 'DT', 'GR', 'ILD', 'ILM', 'LLD', 'LLS', 'MSFL', 'NPHI', 'PEF', 'POTA', 'RHOB', 'THOR', 'URAN', 'DEPTH', 'CALI', 'CGR', 'CGR-ENT', 'DRHO', 'DT', 'GR', 'GR-ENT', 'GR-LWD', 'ILD-LWD', 'ILM-LWD', 'LLD', 'LLD-LWD', 'LLS', 'LLS-LWD', 'MSFL', 'MSFL-LWD', 'NPHI', 'NPHI-ENT', 'PEF', 'POTA', 'POTA-ENT', 'RHOB', 'THOR', 'THOR-ENT', 'URAN', 'URAN-ENT', 'DEPTH', 'CALI', 'CGR', 'DRHO', 'DT', 'GR', 'GR-LWD', 'LLD', 'LLD-LWD', 'LLS', 'LLS-LWD', 'MSFL', 'MSFL-LWD', 'NPHI', 'PEF', 'POTA', 'RHOB', 'THOR', 'URAN', 'DEPTH', 'CALI', 'DRHO', 'DT', 'GR', 'ILD', 'LLD', 'LLS', 'NPHI', 'RHOB', 'DEPTH', 'CAL', 'CGR', 'DRHO', 'DT', 'GR', 'ILD', 'ILM', 'LLD', 'LLS', 'MSFL', 'NPHI', 'PEF', 'POTA', 'RHOB', 'THOR', 'URAN', 'DEPTH', 'CAL', 'DRHO', 'DT', 'GR', 'ILD', 'NPHI', 'RHOB', 'SN', 'DEPTH', 'CALI', 'DRHO', 'DT', 'ILD', 'LLD', 'LLS', 'MSFL', 'NPHI', 'GR', 'RHOB', 'DEPTH', 'CALI', 'DRHO', 'DT', 'GR', 'ILD', 'LLD', 'LLS', 'MSFL', 'NPHI', 'RHOB', 'SP', 'DEPTH', 'CALI', 'DRHO', 'DT', 'GR', 'ILD', 'LLD', 'LLS', 'MSFL', 'NPHI', 'RHOB', 'SP', 'DEPTH', 'CALI', 'DRHO', 'DT', 'GR', 'ILD', 'LLD', 'LLS', 'MSFL', 'NORM', 'NPHI', 'RHOB', 'SP', 'DEPTH', 'CALI', 'CGR', 'DRHO', 'DT', 'GR', 'ILD', 'LLD', 'LLS', 'MSFL', 'NPHI', 'PEF', 'POTA', 'RHOB', 'THOR', 'URAN', 'DEPTH', 'CALI', 'DRHO', 'DT', 'GR', 'ILD', 'ILM', 'LLD', 'LLS', 'MSFL', 'NPHI', 'PEF', 'RHOB', 'DEPTH', 'CALI', 'DRHO', 'DT', 'GR', 'ILD', 'ILM', 'LLD', 'LLS', 'MSFL', 'NPHI', 'PEF', 'RHOB', 'DEPTH', 'CALI', 'DRHO', 'DT', 'GR', 'ILD', 'LLD', 'LLS', 'MSFL', 'NPHI', 'PEF', 'RHOB', 'DEPTH', 'CALI', 'DT', 'GR', 'GR-ENT', 'GR-LWD', 'ILD', 'LLD', 'LLD-LWD', 'LLS', 'LLS-LWD', 'MSFL', 'MSFL-LWD', 'NPHI', 'NPHI-ENT', 'RHOB', 'DEPTH', 'CAL', 'DRHO', 'DT', 'GR', 'GR-LWD', 'ILD', 'LLD', 'LLD-LWD', 'LLS', 'LLS-LWD', 'MINV', 'MNOR', 'MSFL', 'MSFL-LWD', 'NPHI', 'PEF', 'RG', 'RHOB', 'SN', 'DEPTH', 'CALI', 'CGR', 'DRHO', 'DT', 'GR', 'ILD', 'ILM', 'LLD', 'LLS', 'MSFL', 'NPHI', 'PEF', 'POTA', 'RHOB', 'THOR', 'URAN', 'DEPTH', 'CALI', 'DRHO', 'DT', 'GR', 'ILD', 'LLD', 'LLS', 'MSFL', 'NPHI', 'PEF', 'RHOB', 'SIGM', 'SP', 'TAU', 'DEPTH', 'CAL', 'DRHO', 'DT', 'GR', 'ILD', 'NPHI', 'RHOB', 'DEPTH', 'DT', 'GR', 'ILD', 'NPHI', 'RG', 'RHOB', 'DEPTH', 'CALI', 'DRHO', 'DT', 'GR', 'ILD', 'LLD', 'LLS', 'MSFL', 'RHOB', 'DEPTH', 'CAL', 'DRHO', 'DT', 'GR', 'ILD', 'LLD', 'LLS', 'NPHI', 'RHOB', 'DEPTH', 'CALI', 'DRHO', 'DT', 'GR', 'ILD', 'LLD', 'LLS', 'MSFL', 'NPHI', 'RHOB', 'SP', 'DEPTH', 'CALI', 'DT', 'GR', 'ILD', 'LLD', 'LLS', 'MSFL', 'NPHI', 'RG', 'RHOB', 'SP', 'DEPTH', 'CALI', 'DRHO', 'DT', 'GR', 'ILD', 'LLD', 'LLS', 'MSFL', 'NPHI', 'RHOB', 'SN', 'DEPTH', 'CALI', 'CGR', 'DRHO', 'DT', 'GR', 'ILD', 'ILM', 'LLD', 'LLS', 'NPHI', 'PEF', 'POTA', 'RHOB', 'THOR', 'URAN', 'DEPTH', 'CAL', 'DRHO', 'DT', 'GR', 'ILD', 'LLD', 'LLS', 'MSFL', 'NPHI', 'PEF', 'RG', 'RHOB', 'DEPTH', 'CALI', 'DRHO', 'DT', 'GR', 'ILD', 'ILM', 'LLD', 'LLS', 'MSFL', 'NPHI', 'PEF', 'RHOB', 'SP', 'DEPTH', 'CALI', 'DRHO', 'DT', 'ILD', 'ILM', 'LLD', 'LLS', 'MSFL', 'NPHI', 'PEF', 'RG', 'RHOB', 'DEPTH', 'CALI', 'DRHO', 'DT', 'GR', 'ILD', 'ILM', 'NPHI', 'RHOB', 'SN', 'SP', 'DEPTH', 'CALI', 'DRHO', 'DT', 'GR', 'GR-LWD', 'ILD', 'LLD', 'LLD-LWD', 'LLS', 'LLS-LWD', 'MINV', 'MNOR', 'MSFL', 'MSFL-LWD', 'NPHI', 'RHOB', 'DEPTH', 'CALI', 'CGR', 'DRHO', 'DT', 'GR', 'GR-LWD', 'ILD', 'ILD-LWD', 'ILM', 'ILM-LWD', 'LLD', 'LLS', 'MSFL', 'NPHI', 'PEF', 'POTA', 'RHOB', 'THOR', 'URAN', 'DEPTH', 'CALI', 'CGR', 'DRHO', 'DT', 'GR', 'ILD', 'ILM', 'LLD', 'LLS', 'MSFL', 'NPHI', 'PEF', 'POTA', 'RHOB', 'THOR', 'URAN', 'DEPTH', 'CALI', 'CGR', 'DRHO', 'DT', 'GR', 'ILD', 'LLD', 'LLS', 'NPHI', 'RG', 'RHOB', 'DEPTH', 'CALI', 'DRHO', 'DT', 'GR', 'ILD', 'LLD', 'LLS', 'NPHI', 'PEF', 'RHOB', 'SIGM', 'TAU', 'DEPTH', 'CALI', 'DRHO', 'DT', 'GR', 'ILD', 'LLD', 'LLS', 'MSFL', 'NPHI', 'RHOB', 'DEPTH', 'TVD', 'CALI', 'CGR', 'DRHO', 'DT', 'DTS', 'GR', 'GR-LWD', 'ILD-LWD', 'ILM-LWD', 'LLD', 'LLD-LWD', 'LLS', 'LLS-LWD', 'MSFL', 'MSFL-LWD', 'NPHI', 'PEF', 'POTA', 'RHOB', 'SGFM', 'SIGM', 'SPHI', 'THOR', 'URAN', 'DEPTH', 'CALI', 'CGR', 'DRHO', 'DT', 'GR', 'ILD', 'ILM', 'LLD', 'LLS', 'MSFL', 'NPHI', 'PEF', 'POTA', 'RHOB', 'SP', 'THOR', 'URAN', 'DEPTH', 'CALI', 'CGR', 'DT', 'GR', 'ILD', 'ILM', 'LLD', 'LLS', 'MSFL', 'NPHI', 'POTA', 'THOR', 'URAN', 'DEPTH', 'TVD', 'CALI', 'DRHO', 'DT', 'GR', 'GR-ENT', 'GR-LWD', 'LLD-LWD', 'LLS-LWD', 'MSFL-LWD', 'NPHI', 'NPHI-ENT', 'PEF', 'RHOB', 'SIGM', 'DEPTH', 'TVD', 'CALI', 'DRHO', 'DT', 'GR', 'GR-LWD', 'LLD', 'LLD-LWD', 'LLS', 'LLS-LWD', 'MSFL-LWD', 'NPHI', 'PEF', 'RHOB', 'SP', 'DEPTH', 'TVD', 'CALI', 'CGR', 'DRHO', 'DT', 'DTSM', 'GR', 'GR-LWD', 'LLD-LWD', 'LLS-LWD', 'MSFL-LWD', 'NPHI', 'PEF', 'POTA', 'RHOB', 'THOR', 'URAN', 'DEPTH', 'TVD', 'BS', 'CALI', 'CGR', 'DRHO', 'DT', 'GR', 'GR-LWD', 'ILD', 'ILD-LWD', 'ILM', 'ILM-LWD', 'LLD', 'LLS', 'MSFL', 'NPHI', 'PEF', 'POTA', 'RHOB', 'THOR', 'URAN', 'DEPTH', 'TVD', 'BS', 'CALI', 'CGR', 'DRHO', 'DT', 'GR', 'GR-LWD', 'ILD-LWD', 'ILM-LWD', 'LLD', 'LLS', 'MSFL', 'NPHI', 'PEF', 'POTA', 'RHOB', 'SP', 'SPHI', 'THOR', 'URAN', 'DEPTH', 'TVD', 'CALI', 'DRHO', 'DRHO-LWD', 'DT', 'GR', 'GR-LWD', 'ILD-LWD', 'ILM-LWD', 'LLD', 'LLD-LWD', 'LLS', 'LLS-LWD', 'MSFL', 'MSFL-LWD', 'NPHI', 'NPHI-LWD', 'PEF', 'PEF-LWD', 'RHOB', 'RHOB-LWD', 'DEPTH', 'TVD', 'CALI', 'CGR', 'DRHO', 'DT', 'DTSM', 'GR', 'GR-LWD', 'LLD', 'LLD-LWD', 'LLS', 'LLS-LWD', 'MSFL', 'MSFL-LWD', 'NPHI', 'PEF', 'POTA', 'RHOB', 'SPHI', 'THOR', 'URAN', 'DEPTH', 'TVD', 'CALI', 'DRHO', 'DT', 'GR', 'GR-LWD', 'ILD', 'ILD-LWD', 'ILM', 'ILM-LWD', 'LLD-LWD', 'LLS-LWD', 'MSFL-LWD', 'NPHI', 'PEF', 'RHOB']\n"
          ]
        }
      ]
    },
    {
      "cell_type": "markdown",
      "source": [
        "## Definición de estructura de dataframe para guardar registros"
      ],
      "metadata": {
        "id": "NenWRStkLTqA"
      }
    },
    {
      "cell_type": "code",
      "source": [
        "unique_key = list(set(keys_list))"
      ],
      "metadata": {
        "id": "1yunpBwNlzly"
      },
      "execution_count": 4,
      "outputs": []
    },
    {
      "cell_type": "code",
      "source": [
        "print(unique_key)\n",
        "print(len(unique_key))"
      ],
      "metadata": {
        "colab": {
          "base_uri": "https://localhost:8080/"
        },
        "id": "0Herbqsklzip",
        "outputId": "37bd5fbe-ec1f-43d4-d03e-3f984203d239"
      },
      "execution_count": 5,
      "outputs": [
        {
          "output_type": "stream",
          "name": "stdout",
          "text": [
            "['CGR-ENT', 'ILM-LWD', 'NPHI_ENT', 'RG', 'RHOB', 'CALIH-LWD', 'TAU', 'SFLU', 'SN', 'CALIV-LWD', 'NPHI-ENT', 'LLS-LWD', 'GR', 'MINV', 'PEF', 'GR-LWD', 'ILD', 'CAL', 'NPHI-LWD', 'DTSM', 'DRHO-LWD', 'PEF-LWD', 'DTS', 'SPHI', 'LLM-LWD', 'BS', 'THOR-ENT', 'SGR', 'URAN', 'LLS', 'MNOR', 'SGFM', 'DEPTH', 'CNL-ENTUB1', 'SP', 'LLD-LWD', 'SIGMA', 'POTA-ENT', 'MSFL', 'CALI', 'CGR', 'MSFL-LWD', 'ILD-LWD', 'TNPH', 'TVD', 'CNL', 'NORM', 'SIGM', 'DRHO', 'RHOB-LWD', 'DTCO', 'LLD', 'GR-ENT', 'ILM', 'DT', 'URAN-ENT', 'POTA', 'THOR', 'DT-LWD', 'NPHI']\n",
            "60\n"
          ]
        }
      ]
    },
    {
      "cell_type": "code",
      "source": [
        "key_names = unique_key\n",
        "df_header = pd.DataFrame(columns=key_names)"
      ],
      "metadata": {
        "id": "du_vsqyumMex"
      },
      "execution_count": 17,
      "outputs": []
    },
    {
      "cell_type": "code",
      "source": [
        "df_header.head()"
      ],
      "metadata": {
        "colab": {
          "base_uri": "https://localhost:8080/",
          "height": 79
        },
        "id": "2kmiRWhUm73T",
        "outputId": "e7742389-6321-4c75-bcf6-bda76b297294"
      },
      "execution_count": 20,
      "outputs": [
        {
          "output_type": "execute_result",
          "data": {
            "text/plain": [
              "Empty DataFrame\n",
              "Columns: [CGR-ENT, ILM-LWD, NPHI_ENT, RG, RHOB, CALIH-LWD, TAU, SFLU, SN, CALIV-LWD, NPHI-ENT, LLS-LWD, GR, MINV, PEF, GR-LWD, ILD, CAL, NPHI-LWD, DTSM, DRHO-LWD, PEF-LWD, DTS, SPHI, LLM-LWD, BS, THOR-ENT, SGR, URAN, LLS, MNOR, SGFM, DEPTH, CNL-ENTUB1, SP, LLD-LWD, SIGMA, POTA-ENT, MSFL, CALI, CGR, MSFL-LWD, ILD-LWD, TNPH, TVD, CNL, NORM, SIGM, DRHO, RHOB-LWD, DTCO, LLD, GR-ENT, ILM, DT, URAN-ENT, POTA, THOR, DT-LWD, NPHI]\n",
              "Index: []\n",
              "\n",
              "[0 rows x 60 columns]"
            ],
            "text/html": [
              "\n",
              "  <div id=\"df-ec7161b0-bc05-419b-8dc7-3ffe26668d94\" class=\"colab-df-container\">\n",
              "    <div>\n",
              "<style scoped>\n",
              "    .dataframe tbody tr th:only-of-type {\n",
              "        vertical-align: middle;\n",
              "    }\n",
              "\n",
              "    .dataframe tbody tr th {\n",
              "        vertical-align: top;\n",
              "    }\n",
              "\n",
              "    .dataframe thead th {\n",
              "        text-align: right;\n",
              "    }\n",
              "</style>\n",
              "<table border=\"1\" class=\"dataframe\">\n",
              "  <thead>\n",
              "    <tr style=\"text-align: right;\">\n",
              "      <th></th>\n",
              "      <th>CGR-ENT</th>\n",
              "      <th>ILM-LWD</th>\n",
              "      <th>NPHI_ENT</th>\n",
              "      <th>RG</th>\n",
              "      <th>RHOB</th>\n",
              "      <th>CALIH-LWD</th>\n",
              "      <th>TAU</th>\n",
              "      <th>SFLU</th>\n",
              "      <th>SN</th>\n",
              "      <th>CALIV-LWD</th>\n",
              "      <th>...</th>\n",
              "      <th>DTCO</th>\n",
              "      <th>LLD</th>\n",
              "      <th>GR-ENT</th>\n",
              "      <th>ILM</th>\n",
              "      <th>DT</th>\n",
              "      <th>URAN-ENT</th>\n",
              "      <th>POTA</th>\n",
              "      <th>THOR</th>\n",
              "      <th>DT-LWD</th>\n",
              "      <th>NPHI</th>\n",
              "    </tr>\n",
              "  </thead>\n",
              "  <tbody>\n",
              "  </tbody>\n",
              "</table>\n",
              "<p>0 rows × 60 columns</p>\n",
              "</div>\n",
              "    <div class=\"colab-df-buttons\">\n",
              "\n",
              "  <div class=\"colab-df-container\">\n",
              "    <button class=\"colab-df-convert\" onclick=\"convertToInteractive('df-ec7161b0-bc05-419b-8dc7-3ffe26668d94')\"\n",
              "            title=\"Convert this dataframe to an interactive table.\"\n",
              "            style=\"display:none;\">\n",
              "\n",
              "  <svg xmlns=\"http://www.w3.org/2000/svg\" height=\"24px\" viewBox=\"0 -960 960 960\">\n",
              "    <path d=\"M120-120v-720h720v720H120Zm60-500h600v-160H180v160Zm220 220h160v-160H400v160Zm0 220h160v-160H400v160ZM180-400h160v-160H180v160Zm440 0h160v-160H620v160ZM180-180h160v-160H180v160Zm440 0h160v-160H620v160Z\"/>\n",
              "  </svg>\n",
              "    </button>\n",
              "\n",
              "  <style>\n",
              "    .colab-df-container {\n",
              "      display:flex;\n",
              "      gap: 12px;\n",
              "    }\n",
              "\n",
              "    .colab-df-convert {\n",
              "      background-color: #E8F0FE;\n",
              "      border: none;\n",
              "      border-radius: 50%;\n",
              "      cursor: pointer;\n",
              "      display: none;\n",
              "      fill: #1967D2;\n",
              "      height: 32px;\n",
              "      padding: 0 0 0 0;\n",
              "      width: 32px;\n",
              "    }\n",
              "\n",
              "    .colab-df-convert:hover {\n",
              "      background-color: #E2EBFA;\n",
              "      box-shadow: 0px 1px 2px rgba(60, 64, 67, 0.3), 0px 1px 3px 1px rgba(60, 64, 67, 0.15);\n",
              "      fill: #174EA6;\n",
              "    }\n",
              "\n",
              "    .colab-df-buttons div {\n",
              "      margin-bottom: 4px;\n",
              "    }\n",
              "\n",
              "    [theme=dark] .colab-df-convert {\n",
              "      background-color: #3B4455;\n",
              "      fill: #D2E3FC;\n",
              "    }\n",
              "\n",
              "    [theme=dark] .colab-df-convert:hover {\n",
              "      background-color: #434B5C;\n",
              "      box-shadow: 0px 1px 3px 1px rgba(0, 0, 0, 0.15);\n",
              "      filter: drop-shadow(0px 1px 2px rgba(0, 0, 0, 0.3));\n",
              "      fill: #FFFFFF;\n",
              "    }\n",
              "  </style>\n",
              "\n",
              "    <script>\n",
              "      const buttonEl =\n",
              "        document.querySelector('#df-ec7161b0-bc05-419b-8dc7-3ffe26668d94 button.colab-df-convert');\n",
              "      buttonEl.style.display =\n",
              "        google.colab.kernel.accessAllowed ? 'block' : 'none';\n",
              "\n",
              "      async function convertToInteractive(key) {\n",
              "        const element = document.querySelector('#df-ec7161b0-bc05-419b-8dc7-3ffe26668d94');\n",
              "        const dataTable =\n",
              "          await google.colab.kernel.invokeFunction('convertToInteractive',\n",
              "                                                    [key], {});\n",
              "        if (!dataTable) return;\n",
              "\n",
              "        const docLinkHtml = 'Like what you see? Visit the ' +\n",
              "          '<a target=\"_blank\" href=https://colab.research.google.com/notebooks/data_table.ipynb>data table notebook</a>'\n",
              "          + ' to learn more about interactive tables.';\n",
              "        element.innerHTML = '';\n",
              "        dataTable['output_type'] = 'display_data';\n",
              "        await google.colab.output.renderOutput(dataTable, element);\n",
              "        const docLink = document.createElement('div');\n",
              "        docLink.innerHTML = docLinkHtml;\n",
              "        element.appendChild(docLink);\n",
              "      }\n",
              "    </script>\n",
              "  </div>\n",
              "\n",
              "    </div>\n",
              "  </div>\n"
            ],
            "application/vnd.google.colaboratory.intrinsic+json": {
              "type": "dataframe",
              "variable_name": "df_header"
            }
          },
          "metadata": {},
          "execution_count": 20
        }
      ]
    },
    {
      "cell_type": "markdown",
      "source": [
        "## Llenado de dataframe"
      ],
      "metadata": {
        "id": "eXXapMvDL0Hl"
      }
    },
    {
      "cell_type": "code",
      "source": [
        "repo_url = \"https://github.com/cacevedo29/Equipo47\"\n",
        "file_path = \"data/1003.las\"\n",
        "\n",
        "las_data = read_las_from_github(repo_url, file_path)\n"
      ],
      "metadata": {
        "id": "gbbJpYeQWw3m"
      },
      "execution_count": 13,
      "outputs": []
    },
    {
      "cell_type": "code",
      "source": [
        "las_data = read_las_from_github(repo_url, file_path)\n",
        "print(las_data.values())"
      ],
      "metadata": {
        "colab": {
          "base_uri": "https://localhost:8080/"
        },
        "id": "6jWCEU__U5Hm",
        "outputId": "c1d2d534-a689-4c3e-a5a9-4c4f67ea6389"
      },
      "execution_count": 12,
      "outputs": [
        {
          "output_type": "stream",
          "name": "stdout",
          "text": [
            "[array([ 491.65  ,  491.8024,  491.9548, ..., 2944.8328, 2944.9851,\n",
            "       2945.1377]), array([nan, nan, nan, ..., nan, nan, nan]), array([nan, nan, nan, ..., nan, nan, nan]), array([27.6339, 28.8719, 29.9402, ...,     nan,     nan,     nan]), array([nan, nan, nan, ..., nan, nan, nan]), array([  nan,   nan,   nan, ..., 4.596, 4.596, 4.596]), array([    nan,     nan,     nan, ..., 843.857, 843.857, 843.857]), array([   nan,    nan,    nan, ..., 8.0264, 8.025 , 8.025 ]), array([nan, nan, nan, ..., nan, nan, nan]), array([nan, nan, nan, ..., nan, nan, nan]), array([nan, nan, nan, ..., nan, nan, nan]), array([-265.9659, -264.3624, -262.7252, ...,  -63.2264,  -63.2341,\n",
            "        -63.2361])]\n"
          ]
        }
      ]
    }
  ]
}